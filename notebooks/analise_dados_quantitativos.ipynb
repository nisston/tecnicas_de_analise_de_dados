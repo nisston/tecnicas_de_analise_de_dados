{
 "cells": [
  {
   "cell_type": "markdown",
   "id": "611a8f87",
   "metadata": {},
   "source": [
    "# Técnicas de Análise de Dados Quantitativos\n",
    "Este notebook apresenta exemplos práticos para Estatística Descritiva, Estatística Inferencial, Modelagem e Regressão, e Análise Exploratória de Dados."
   ]
  },
  {
   "cell_type": "markdown",
   "id": "490dc80a",
   "metadata": {},
   "source": [
    "## Estatística Descritiva\n",
    "Analisamos estatísticas básicas de um conjunto de dados."
   ]
  },
  {
   "cell_type": "code",
   "execution_count": null,
   "id": "b509a115",
   "metadata": {},
   "outputs": [],
   "source": [
    "import pandas as pd\n",
    "import numpy as np\n",
    "\n",
    "# Criando um conjunto de dados fictício\n",
    "data = {'Idade': [23, 45, 31, 35, 40, 29, 33, 50, 41, 37],\n",
    "        'Salário': [3000, 7000, 5000, 5500, 6000, 4200, 4900, 8000, 6200, 5800]}\n",
    "df = pd.DataFrame(data)\n",
    "\n",
    "# Estatísticas básicas\n",
    "print(\"Média:\n",
    "\", df.mean())\n",
    "print(\"Mediana:\n",
    "\", df.median())\n",
    "print(\"Desvio Padrão:\n",
    "\", df.std())\n",
    "print(\"Resumo Estatístico:\n",
    "\", df.describe())"
   ]
  },
  {
   "cell_type": "markdown",
   "id": "402e03be",
   "metadata": {},
   "source": [
    "## Estatística Inferencial\n",
    "Aplicamos um Teste t para comparar dois grupos de dados."
   ]
  },
  {
   "cell_type": "code",
   "execution_count": null,
   "id": "b5c0d064",
   "metadata": {},
   "outputs": [],
   "source": [
    "from scipy import stats\n",
    "\n",
    "# Criando dois grupos de dados fictícios\n",
    "grupo1 = np.random.normal(5000, 800, 30)\n",
    "grupo2 = np.random.normal(5500, 850, 30)\n",
    "\n",
    "# Teste t para comparação das médias\n",
    "t_stat, p_value = stats.ttest_ind(grupo1, grupo2)\n",
    "print(\"Estatística do Teste t:\", t_stat)\n",
    "print(\"Valor p:\", p_value)\n",
    "\n",
    "# Interpretação do resultado\n",
    "if p_value < 0.05:\n",
    "    print(\"Rejeitamos H0: Existe diferença significativa entre os grupos.\")\n",
    "else:\n",
    "    print(\"Não rejeitamos H0: Não há evidências de diferença significativa.\")"
   ]
  },
  {
   "cell_type": "markdown",
   "id": "40ceb34d",
   "metadata": {},
   "source": [
    "## Modelagem e Regressão\n",
    "Criamos um modelo de regressão linear entre idade e salário."
   ]
  },
  {
   "cell_type": "code",
   "execution_count": null,
   "id": "c7769a7a",
   "metadata": {},
   "outputs": [],
   "source": [
    "import matplotlib.pyplot as plt\n",
    "import seaborn as sns\n",
    "from sklearn.linear_model import LinearRegression\n",
    "\n",
    "# Criando variáveis independentes (X) e dependentes (y)\n",
    "X = df[['Idade']]\n",
    "y = df['Salário']\n",
    "\n",
    "# Criando o modelo de regressão linear\n",
    "model = LinearRegression()\n",
    "model.fit(X, y)\n",
    "\n",
    "# Predições\n",
    "df['Salário_Predito'] = model.predict(X)\n",
    "\n",
    "# Visualização\n",
    "sns.scatterplot(x=df['Idade'], y=df['Salário'], label=\"Salário Real\")\n",
    "sns.lineplot(x=df['Idade'], y=df['Salário_Predito'], color='red', label=\"Regressão Linear\")\n",
    "plt.xlabel(\"Idade\")\n",
    "plt.ylabel(\"Salário\")\n",
    "plt.title(\"Regressão Linear entre Idade e Salário\")\n",
    "plt.legend()\n",
    "plt.show()"
   ]
  },
  {
   "cell_type": "markdown",
   "id": "5d6c498e",
   "metadata": {},
   "source": [
    "## Análise Exploratória de Dados (EDA)\n",
    "Exploramos os dados com histogramas, matriz de correlação e gráficos de dispersão."
   ]
  },
  {
   "cell_type": "code",
   "execution_count": null,
   "id": "deb61eab",
   "metadata": {},
   "outputs": [],
   "source": [
    "# Histogramas\n",
    "df.hist(figsize=(8, 5), bins=5)\n",
    "plt.show()\n",
    "\n",
    "# Matriz de correlação\n",
    "print(\"Matriz de Correlação:\n",
    "\", df.corr())\n",
    "\n",
    "# Gráfico de dispersão\n",
    "sns.pairplot(df)\n",
    "plt.show()"
   ]
  }
 ],
 "metadata": {},
 "nbformat": 4,
 "nbformat_minor": 5
}
